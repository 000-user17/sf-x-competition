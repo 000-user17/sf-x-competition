{
 "cells": [
  {
   "cell_type": "code",
   "execution_count": 2,
   "metadata": {},
   "outputs": [],
   "source": [
    "def Dijkstra(G, start):\n",
    "    # 输入是从 0 开始，所以起始点减 1\n",
    "    inf = float('inf')\n",
    "    node_num = len(G)\n",
    "    # visited 代表哪些顶点加入过\n",
    "    visited = [0] * node_num\n",
    "    # 初始顶点到其余顶点的距离\n",
    "    dis = {node: G[start][node] for node in range(node_num)}\n",
    "    # parents 代表最终求出最短路径后，每个顶点的上一个顶点是谁，初始化为 -1，代表无上一个顶点\n",
    "    parents = {node: -1 for node in range(node_num)}\n",
    "    # 起始点加入进 visited 数组\n",
    "    visited[start] = 1\n",
    "    # 最开始的上一个顶点为初始顶点\n",
    "    last_point = start\n",
    "\n",
    "    for i in range(node_num - 1):\n",
    "        # 求出 dis 中未加入 visited 数组的最短距离和顶点\n",
    "        min_dis = inf\n",
    "        for j in range(node_num):\n",
    "            if visited[j] == 0 and dis[j] < min_dis:\n",
    "                min_dis = dis[j]\n",
    "                # 把该顶点做为下次遍历的上一个顶点\n",
    "                last_point = j\n",
    "        # 最短顶点假加入 visited 数组\n",
    "        visited[last_point] = 1\n",
    "        # 对首次循环做特殊处理，不然在首次循环时会没法求出该点的上一个顶点\n",
    "        if i == 0:\n",
    "            parents[last_point] = start\n",
    "        for k in range(node_num):\n",
    "            if G[last_point][k] < inf and dis[k] > dis[last_point] + G[last_point][k]:\n",
    "                # 如果有更短的路径，更新 dis 和 记录 parents\n",
    "                dis[k] = dis[last_point] + G[last_point][k]\n",
    "                parents[k] = last_point\n",
    "    # 因为从 0 开始，最后把顶点都加 1\n",
    "    return {key: values for key, values in dis.items()}, {key: values for key, values in parents.items()}\n",
    "\n",
    "def findpath(position_dict_rever, dists, parents,start, end):\n",
    "    cur = end\n",
    "    path_idx = []\n",
    "    dis = 0\n",
    "    while cur != start:\n",
    "        dis += dists[cur]\n",
    "        path_idx.append(cur)\n",
    "        cur = parents[cur]\n",
    "        if cur == -1:\n",
    "            break\n",
    "    if cur == -1:\n",
    "        path_idx = []\n",
    "    else:\n",
    "        path_idx.append(start)\n",
    "        list.reverse(path_idx)\n",
    "    path = []\n",
    "    for idx in path_idx:\n",
    "        path.append(position_dict_rever[idx])\n",
    "    return path, dis\n",
    "    \n"
   ]
  },
  {
   "cell_type": "code",
   "execution_count": null,
   "metadata": {},
   "outputs": [],
   "source": []
  },
  {
   "cell_type": "code",
   "execution_count": 45,
   "metadata": {},
   "outputs": [
    {
     "name": "stdout",
     "output_type": "stream",
     "text": [
      "[0, 1, inf, 1, inf, inf, inf, inf, inf]\n",
      "[1, 0, 1, inf, 1, inf, inf, inf, inf]\n",
      "[inf, 1, 0, inf, inf, 1, inf, inf, inf]\n",
      "[1, inf, inf, 0, 1, inf, 1, inf, inf]\n",
      "[inf, 1, inf, 1, 0, 1, inf, 1, inf]\n",
      "[inf, inf, 1, inf, 1, 0, inf, inf, 1]\n",
      "[inf, inf, inf, 1, inf, inf, 0, 1, inf]\n",
      "[inf, inf, inf, inf, 1, inf, 1, 0, 1]\n",
      "[inf, inf, inf, inf, inf, 1, inf, 1, 0]\n"
     ]
    }
   ],
   "source": [
    "width = 3\n",
    "height = 3\n",
    "position_dict = {}\n",
    "position_dict_rever = {}\n",
    "pos_idx = 0\n",
    "for i in range(height):\n",
    "    for j in range(width):\n",
    "        position_dict[(i, j)] = pos_idx\n",
    "        position_dict_rever[pos_idx] = (i, j)\n",
    "        pos_idx += 1\n",
    "\n",
    "'''\n",
    "0 1 2 3 4 5 6\n",
    "7 8 9 10 11 12 13\n",
    "...这样的序号\n",
    "'''\n",
    "graph = []\n",
    "inf = float('inf')\n",
    "for vertex in position_dict:\n",
    "    graph.append([inf for k in range(len(position_dict))])\n",
    "    idx = len(graph)-1\n",
    "    graph[idx][idx] = 0\n",
    "    for dx, dy in [(1,0), (-1,0), (0,1), (0,-1)]:\n",
    "        (pos_x, pos_y) = (vertex[0]+dx, vertex[1]+dy)\n",
    "        if (pos_x, pos_y) in position_dict:\n",
    "            graph[idx][position_dict[(pos_x, pos_y)]] = 1 #相邻顶点连通，且距离为1\n",
    "    print(graph[idx])"
   ]
  },
  {
   "cell_type": "code",
   "execution_count": 46,
   "metadata": {},
   "outputs": [],
   "source": [
    "dists, parents = Dijkstra(graph, 0)"
   ]
  },
  {
   "cell_type": "code",
   "execution_count": 47,
   "metadata": {},
   "outputs": [
    {
     "data": {
      "text/plain": [
       "{0: -1, 1: 0, 2: 1, 3: -1, 4: 1, 5: 2, 6: 3, 7: 4, 8: 5}"
      ]
     },
     "execution_count": 47,
     "metadata": {},
     "output_type": "execute_result"
    }
   ],
   "source": [
    "parents"
   ]
  },
  {
   "cell_type": "code",
   "execution_count": 48,
   "metadata": {},
   "outputs": [
    {
     "data": {
      "text/plain": [
       "([(0, 0), (0, 1), (0, 2), (1, 2)], 6)"
      ]
     },
     "execution_count": 48,
     "metadata": {},
     "output_type": "execute_result"
    }
   ],
   "source": [
    "findpath(position_dict_rever, dists, parents, 0 ,5)"
   ]
  },
  {
   "cell_type": "code",
   "execution_count": 54,
   "metadata": {},
   "outputs": [
    {
     "name": "stdout",
     "output_type": "stream",
     "text": [
      "(5, 12, 19)\n",
      "((1, 1), (2, 2), (2, 5))\n",
      "('sdg', 'sd', 'q12')\n"
     ]
    }
   ],
   "source": [
    "l1 = [(2, 2), (1, 1), (2, 5)]\n",
    "l2 = [12, 5, 19]\n",
    "l3 = ['sd','sdg','q12']\n",
    "\n",
    "sorted_pairs = sorted(zip(l2, l1, l3))\n",
    "l2, l1, l3 = zip(*sorted_pairs)\n",
    "print(l2)\n",
    "print(l1)\n",
    "print(l3)"
   ]
  },
  {
   "cell_type": "code",
   "execution_count": null,
   "metadata": {},
   "outputs": [],
   "source": [
    "import json\n",
    "from test2 import class_init\n",
    "with open('r2.json', 'r') as file:\n",
    "    # 加载JSON文件数据\n",
    "    g3_data = json.load(file)\n",
    "g3 = class_init(g3_data)\n",
    "g3.map_construct()\n",
    "graph = g3.graph"
   ]
  },
  {
   "cell_type": "code",
   "execution_count": 3,
   "metadata": {},
   "outputs": [],
   "source": [
    "dists, parents = Dijkstra(graph, 0)"
   ]
  },
  {
   "cell_type": "code",
   "execution_count": 4,
   "metadata": {},
   "outputs": [
    {
     "data": {
      "text/plain": [
       "{0: 0,\n",
       " 1: -1,\n",
       " 2: -1,\n",
       " 3: -1,\n",
       " 4: -1,\n",
       " 5: -1,\n",
       " 6: -1,\n",
       " 7: -1,\n",
       " 8: -1,\n",
       " 9: -1,\n",
       " 10: -1,\n",
       " 11: -1,\n",
       " 12: -1,\n",
       " 13: -1,\n",
       " 14: -1,\n",
       " 15: -1,\n",
       " 16: -1,\n",
       " 17: -1,\n",
       " 18: -1,\n",
       " 19: -1,\n",
       " 20: -1,\n",
       " 21: -1,\n",
       " 22: -1,\n",
       " 23: -1,\n",
       " 24: -1,\n",
       " 25: -1,\n",
       " 26: -1,\n",
       " 27: -1,\n",
       " 28: -1,\n",
       " 29: -1,\n",
       " 30: -1,\n",
       " 31: -1,\n",
       " 32: -1,\n",
       " 33: -1,\n",
       " 34: -1,\n",
       " 35: -1,\n",
       " 36: -1,\n",
       " 37: -1,\n",
       " 38: -1,\n",
       " 39: -1,\n",
       " 40: -1,\n",
       " 41: -1,\n",
       " 42: -1,\n",
       " 43: -1,\n",
       " 44: -1,\n",
       " 45: -1,\n",
       " 46: -1,\n",
       " 47: -1,\n",
       " 48: -1,\n",
       " 49: -1,\n",
       " 50: -1,\n",
       " 51: -1,\n",
       " 52: -1,\n",
       " 53: -1,\n",
       " 54: -1,\n",
       " 55: -1,\n",
       " 56: -1,\n",
       " 57: -1,\n",
       " 58: -1,\n",
       " 59: -1,\n",
       " 60: -1,\n",
       " 61: -1,\n",
       " 62: -1,\n",
       " 63: -1,\n",
       " 64: -1,\n",
       " 65: -1,\n",
       " 66: -1,\n",
       " 67: -1,\n",
       " 68: -1,\n",
       " 69: -1,\n",
       " 70: -1,\n",
       " 71: -1,\n",
       " 72: -1,\n",
       " 73: -1,\n",
       " 74: -1,\n",
       " 75: -1,\n",
       " 76: -1,\n",
       " 77: -1,\n",
       " 78: -1,\n",
       " 79: -1,\n",
       " 80: -1,\n",
       " 81: -1,\n",
       " 82: -1,\n",
       " 83: -1,\n",
       " 84: -1,\n",
       " 85: -1,\n",
       " 86: -1,\n",
       " 87: -1,\n",
       " 88: -1,\n",
       " 89: -1,\n",
       " 90: -1,\n",
       " 91: -1,\n",
       " 92: -1,\n",
       " 93: -1,\n",
       " 94: -1,\n",
       " 95: -1,\n",
       " 96: -1,\n",
       " 97: -1,\n",
       " 98: -1,\n",
       " 99: -1,\n",
       " 100: -1,\n",
       " 101: -1,\n",
       " 102: -1,\n",
       " 103: -1,\n",
       " 104: -1,\n",
       " 105: -1,\n",
       " 106: -1,\n",
       " 107: -1,\n",
       " 108: -1,\n",
       " 109: -1,\n",
       " 110: -1,\n",
       " 111: -1,\n",
       " 112: -1,\n",
       " 113: -1,\n",
       " 114: -1,\n",
       " 115: -1,\n",
       " 116: -1,\n",
       " 117: -1,\n",
       " 118: -1,\n",
       " 119: -1,\n",
       " 120: -1,\n",
       " 121: -1,\n",
       " 122: -1,\n",
       " 123: -1,\n",
       " 124: -1,\n",
       " 125: -1}"
      ]
     },
     "execution_count": 4,
     "metadata": {},
     "output_type": "execute_result"
    }
   ],
   "source": [
    "parents"
   ]
  }
 ],
 "metadata": {
  "kernelspec": {
   "display_name": "base",
   "language": "python",
   "name": "python3"
  },
  "language_info": {
   "codemirror_mode": {
    "name": "ipython",
    "version": 3
   },
   "file_extension": ".py",
   "mimetype": "text/x-python",
   "name": "python",
   "nbconvert_exporter": "python",
   "pygments_lexer": "ipython3",
   "version": "3.10.9"
  },
  "orig_nbformat": 4
 },
 "nbformat": 4,
 "nbformat_minor": 2
}
